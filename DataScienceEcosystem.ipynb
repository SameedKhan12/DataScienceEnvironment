{
  "nbformat": 4,
  "nbformat_minor": 0,
  "metadata": {
    "colab": {
      "provenance": [],
      "mount_file_id": "1iXpFMJxDeQla_7HpB4tDB8b18NxpgouZ",
      "authorship_tag": "ABX9TyNbz/ukUXB+gBOl1hLL3Dbh",
      "include_colab_link": true
    },
    "kernelspec": {
      "name": "python3",
      "display_name": "Python 3"
    },
    "language_info": {
      "name": "python"
    }
  },
  "cells": [
    {
      "cell_type": "markdown",
      "metadata": {
        "id": "view-in-github",
        "colab_type": "text"
      },
      "source": [
        "<a href=\"https://colab.research.google.com/github/SameedKhan12/DataScienceEnvironment/blob/main/DataScienceEcosystem.ipynb\" target=\"_parent\"><img src=\"https://colab.research.google.com/assets/colab-badge.svg\" alt=\"Open In Colab\"/></a>"
      ]
    },
    {
      "cell_type": "markdown",
      "source": [
        "# Data Science Tools and Ecosystem\n",
        "<hr>"
      ],
      "metadata": {
        "id": "DNDWw51-kcrv"
      }
    },
    {
      "cell_type": "markdown",
      "source": [
        "In this notebook, Data Science Tools and Ecosystem are summarized.\n",
        "<hr>"
      ],
      "metadata": {
        "id": "U79NonbllJej"
      }
    },
    {
      "cell_type": "markdown",
      "source": [
        "Some of the popular languages that Data Scientists use are:\n",
        "1. Python\n",
        "2. R\n",
        "3. SQL\n",
        "4. Java\n",
        "5. Matlab\n",
        "6. C++\n",
        "7. Scala\n",
        "8. Julia\n",
        "9. Javascript\n",
        "\n",
        "<hr>"
      ],
      "metadata": {
        "id": "twFrgl-tkRPE"
      }
    },
    {
      "cell_type": "markdown",
      "source": [
        "Some of the commonly used libraries used by Data Scientists include:\n",
        "1. Pandas\n",
        "2. NumPy\n",
        "3. Matplotlib\n",
        "4. Seaborn\n",
        "5. Scikit-learn\n",
        "6. TensorFlow\n",
        "7. PyTorch\n",
        "8. Keras\n",
        "9. SciPy\n",
        "10. Statsmodels\n",
        "\n",
        "<hr>\n"
      ],
      "metadata": {
        "id": "TzCt1SNZm-dt"
      }
    },
    {
      "cell_type": "markdown",
      "source": [
        "<table border=\"1\" style=\"text-align: center;\">\n",
        "<thead>\n",
        "<tr><th>Data Science Tools</th></tr>\n",
        "</thead>\n",
        "<tbody>\n",
        "<tr>\n",
        "<td>Jupyter Notebook/JupyterLab</td>\n",
        "</tr>\n",
        "<tr>\n",
        "<td>RStudio</td>\n",
        "</tr>\n",
        "<tr>\n",
        "<td>VS Code</td>\n",
        "</tr>\n",
        "</tbody>\n",
        "</table>\n",
        "<br>\n",
        "<hr>"
      ],
      "metadata": {
        "id": "G4LVBSGDotwK"
      }
    },
    {
      "cell_type": "markdown",
      "source": [
        "### Below are a few examples of evaluating arithmetic expressions in Python"
      ],
      "metadata": {
        "id": "iMn-qFVNrKlp"
      }
    },
    {
      "cell_type": "code",
      "source": [
        "(3*4)+5\n",
        "#  This a simple arithmetic expression to mutiply then add integers"
      ],
      "metadata": {
        "colab": {
          "base_uri": "https://localhost:8080/"
        },
        "id": "_M4KisDysndO",
        "outputId": "05a41df2-5ea9-423e-fe74-d4501bb0f112"
      },
      "execution_count": 1,
      "outputs": [
        {
          "output_type": "execute_result",
          "data": {
            "text/plain": [
              "17"
            ]
          },
          "metadata": {},
          "execution_count": 1
        }
      ]
    },
    {
      "cell_type": "code",
      "source": [
        "def min_to_hours(min):\n",
        "  return min/60\n",
        "\n",
        "min_to_hours(200)\n",
        "# This will convert 200 minutes to hours by diving by 60"
      ],
      "metadata": {
        "colab": {
          "base_uri": "https://localhost:8080/"
        },
        "id": "_Yk_21DptZF4",
        "outputId": "0f994296-b185-4f9f-e64a-9c556b461738"
      },
      "execution_count": 2,
      "outputs": [
        {
          "output_type": "execute_result",
          "data": {
            "text/plain": [
              "3.3333333333333335"
            ]
          },
          "metadata": {},
          "execution_count": 2
        }
      ]
    },
    {
      "cell_type": "markdown",
      "source": [
        "<strong>Objectives:</strong>\n",
        "\n",
        "\n",
        "*   List popular languages that Data Scientists use\n",
        "*   List commonly used libraries used by Data Scientists\n",
        "*   List Data science open source development environment\n"
      ],
      "metadata": {
        "id": "51YyTVRquFP2"
      }
    },
    {
      "cell_type": "markdown",
      "source": [
        "## Author\n",
        "\n",
        "Sameed Khan"
      ],
      "metadata": {
        "id": "u4A8dfHqvl4e"
      }
    },
    {
      "cell_type": "markdown",
      "source": [],
      "metadata": {
        "id": "DvsIhMCOv_wH"
      }
    }
  ]
}